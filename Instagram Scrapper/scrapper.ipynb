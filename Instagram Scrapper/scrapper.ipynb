{
 "cells": [
  {
   "cell_type": "markdown",
   "metadata": {},
   "source": [
    "# Instaloader Install \n"
   ]
  },
  {
   "cell_type": "code",
   "execution_count": 4,
   "metadata": {},
   "outputs": [
    {
     "name": "stdout",
     "output_type": "stream",
     "text": [
      "Defaulting to user installation because normal site-packages is not writeable\n",
      "Requirement already satisfied: instaloader in c:\\users\\souvik\\appdata\\roaming\\python\\python39\\site-packages (4.8.1)\n",
      "Requirement already satisfied: requests>=2.4 in c:\\users\\souvik\\appdata\\roaming\\python\\python39\\site-packages (from instaloader) (2.26.0)\n",
      "Requirement already satisfied: charset-normalizer~=2.0.0 in c:\\users\\souvik\\appdata\\roaming\\python\\python39\\site-packages (from requests>=2.4->instaloader) (2.0.1)\n",
      "Requirement already satisfied: urllib3<1.27,>=1.21.1 in c:\\users\\souvik\\appdata\\roaming\\python\\python39\\site-packages (from requests>=2.4->instaloader) (1.26.6)\n",
      "Requirement already satisfied: idna<4,>=2.5 in c:\\users\\souvik\\appdata\\roaming\\python\\python39\\site-packages (from requests>=2.4->instaloader) (3.2)\n",
      "Requirement already satisfied: certifi>=2017.4.17 in c:\\program files\\python39\\lib\\site-packages (from requests>=2.4->instaloader) (2021.5.30)\n"
     ]
    }
   ],
   "source": [
    "!pip install instaloader\n"
   ]
  },
  {
   "cell_type": "markdown",
   "metadata": {},
   "source": [
    "# Create an instance of Instaloader class"
   ]
  },
  {
   "cell_type": "code",
   "execution_count": 5,
   "metadata": {},
   "outputs": [],
   "source": [
    "import instaloader\n",
    "bot = instaloader.Instaloader()"
   ]
  },
  {
   "cell_type": "markdown",
   "metadata": {},
   "source": [
    "# Load a profile from an Instagram handle"
   ]
  },
  {
   "cell_type": "code",
   "execution_count": 6,
   "metadata": {},
   "outputs": [],
   "source": [
    "s=input(\"Enter insta user id :\")\n",
    "profile = instaloader.Profile.from_username(bot.context, s)"
   ]
  },
  {
   "cell_type": "markdown",
   "metadata": {},
   "source": [
    "# Deatils"
   ]
  },
  {
   "cell_type": "code",
   "execution_count": 7,
   "metadata": {},
   "outputs": [
    {
     "name": "stdout",
     "output_type": "stream",
     "text": [
      "Username:  real_babay5\n",
      "User ID:  5802487109\n",
      "Number of Posts:  16\n",
      "Followers:  78\n",
      "Followees:  159\n",
      "Bio:  Loving to people ❤️\n",
      "Caring to people 💏 and\n",
      "Compassionate to people 😇\n",
      "Inspired about new technologies 🛫🛰️\n",
      "and coding 💻🖱️\n",
      "Wish me on 26th Oct 🔥🔥\n"
     ]
    }
   ],
   "source": [
    "\n",
    "print(\"Username: \", profile.username)\n",
    "print(\"User ID: \", profile.userid)\n",
    "print(\"Number of Posts: \", profile.mediacount)\n",
    "print(\"Followers: \", profile.followers)\n",
    "print(\"Followees: \", profile.followees)\n",
    "print(\"Bio: \", profile.biography)\n"
   ]
  }
 ],
 "metadata": {
  "interpreter": {
   "hash": "ac59ebe37160ed0dfa835113d9b8498d9f09ceb179beaac4002f036b9467c963"
  },
  "kernelspec": {
   "display_name": "Python 3.9.1 64-bit",
   "name": "python3"
  },
  "language_info": {
   "codemirror_mode": {
    "name": "ipython",
    "version": 3
   },
   "file_extension": ".py",
   "mimetype": "text/x-python",
   "name": "python",
   "nbconvert_exporter": "python",
   "pygments_lexer": "ipython3",
   "version": "3.9.1"
  },
  "orig_nbformat": 4
 },
 "nbformat": 4,
 "nbformat_minor": 2
}
