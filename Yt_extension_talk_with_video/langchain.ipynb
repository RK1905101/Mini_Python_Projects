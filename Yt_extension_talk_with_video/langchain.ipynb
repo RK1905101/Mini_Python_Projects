{
 "cells": [
  {
   "cell_type": "code",
   "execution_count": null,
   "id": "eab60294",
   "metadata": {},
   "outputs": [],
   "source": [
    "import os \n",
    "from dotenv import load_dotenv\n",
    "load_dotenv()"
   ]
  },
  {
   "cell_type": "code",
   "execution_count": null,
   "id": "5f8442cf",
   "metadata": {},
   "outputs": [],
   "source": [
    "from youtube_transcript_api import YouTubeTranscriptApi, TranscriptsDisabled\n",
    "from langchain.text_splitter import RecursiveCharacterTextSplitter\n",
    "from langchain_google_genai import ChatGoogleGenerativeAI, GoogleGenerativeAIEmbeddings\n",
    "from langchain_community.vectorstores import FAISS\n",
    "from langchain_core.prompts import PromptTemplate\n",
    "\n"
   ]
  },
  {
   "cell_type": "markdown",
   "id": "9afa72eb",
   "metadata": {},
   "source": []
  },
  {
   "cell_type": "code",
   "execution_count": null,
   "id": "22d3fe68",
   "metadata": {},
   "outputs": [],
   "source": [
    "video_id=\"XBuv4HHTRjI\"\n",
    "try:\n",
    "    transcriptlist=YouTubeTranscriptApi.get_transcript(video_id,languages=[\"en\"])\n",
    "    transcript=\" \".join(chunk[\"text\"] for chunk in transcriptlist)\n",
    "    print(transcript)\n",
    "except TranscriptsDisabled:\n",
    "    print(\"No Captions\")    "
   ]
  },
  {
   "cell_type": "code",
   "execution_count": null,
   "id": "396db28d",
   "metadata": {},
   "outputs": [],
   "source": [
    "transcriptlist"
   ]
  },
  {
   "cell_type": "code",
   "execution_count": null,
   "id": "98de0884",
   "metadata": {},
   "outputs": [],
   "source": [
    "splitter= RecursiveCharacterTextSplitter(chunk_size=1000,chunk_overlap=200)\n",
    "chunks=splitter.create_documents([transcript])"
   ]
  },
  {
   "cell_type": "code",
   "execution_count": null,
   "id": "f296457d",
   "metadata": {},
   "outputs": [],
   "source": [
    "len(chunks)"
   ]
  },
  {
   "cell_type": "code",
   "execution_count": null,
   "id": "4b0be8ea",
   "metadata": {},
   "outputs": [],
   "source": [
    "embeddings = GoogleGenerativeAIEmbeddings(model=\"models/embedding-001\")\n",
    "vector_store=FAISS.from_documents(chunks,embeddings)\n"
   ]
  },
  {
   "cell_type": "code",
   "execution_count": null,
   "id": "09ee957d",
   "metadata": {},
   "outputs": [],
   "source": [
    "vector_store.index_to_docstore_id"
   ]
  },
  {
   "cell_type": "code",
   "execution_count": null,
   "id": "a09d5be7",
   "metadata": {},
   "outputs": [],
   "source": [
    "retriever=vector_store.as_retriever(search_type=\"similarity\",search_kwargs={\"k\":4})"
   ]
  },
  {
   "cell_type": "code",
   "execution_count": null,
   "id": "5b3b37e4",
   "metadata": {},
   "outputs": [],
   "source": [
    "retriever"
   ]
  },
  {
   "cell_type": "code",
   "execution_count": null,
   "id": "7191bb00",
   "metadata": {},
   "outputs": [],
   "source": [
    "retriever.invoke(\"Tell me about DeepMind\")"
   ]
  },
  {
   "cell_type": "code",
   "execution_count": null,
   "id": "82f0d192",
   "metadata": {},
   "outputs": [],
   "source": [
    "llm=ChatGoogleGenerativeAI(model=\"gemini-2.0-flash\",temperature=0.2)"
   ]
  },
  {
   "cell_type": "code",
   "execution_count": null,
   "id": "89fae467",
   "metadata": {},
   "outputs": [],
   "source": [
    "prompt=PromptTemplate(\n",
    "    template=\"\"\"You are a helpful assistant.\n",
    "    Answer only from the provided transcript context\n",
    "    if the context is insufficient ,jusy say you dont know\n",
    "    \n",
    "    {context}\n",
    "    Question:{question}\n",
    "    \"\"\",\n",
    "    input_variables=['context','question']\n",
    "    )\n"
   ]
  },
  {
   "cell_type": "code",
   "execution_count": null,
   "id": "84cf2a04",
   "metadata": {},
   "outputs": [],
   "source": [
    "question          = \"is the topic of nuclear fusion discussed in this video? if yes then what was discussed\"\n",
    "retrieved_docs    = retriever.invoke(question)"
   ]
  },
  {
   "cell_type": "code",
   "execution_count": null,
   "id": "49bd1e9c",
   "metadata": {},
   "outputs": [],
   "source": [
    "retrieved_docs"
   ]
  },
  {
   "cell_type": "code",
   "execution_count": null,
   "id": "ab3ae2fe",
   "metadata": {},
   "outputs": [],
   "source": [
    "context_text = \"\\n\\n\".join(doc.page_content for doc in retrieved_docs)\n",
    "context_text"
   ]
  },
  {
   "cell_type": "code",
   "execution_count": null,
   "id": "96def819",
   "metadata": {},
   "outputs": [],
   "source": [
    "final_prompt = prompt.invoke({\"context\": context_text, \"question\": question})"
   ]
  },
  {
   "cell_type": "code",
   "execution_count": null,
   "id": "3dfe33aa",
   "metadata": {},
   "outputs": [],
   "source": [
    "final_prompt"
   ]
  },
  {
   "cell_type": "code",
   "execution_count": null,
   "id": "1cfde7a0",
   "metadata": {},
   "outputs": [],
   "source": [
    "answer=llm.invoke(final_prompt)\n",
    "print(answer.content)"
   ]
  },
  {
   "cell_type": "code",
   "execution_count": null,
   "id": "5630a2ea",
   "metadata": {},
   "outputs": [],
   "source": [
    "from langchain_core.runnables import RunnableParallel,RunnablePassthrough,RunnableLambda\n",
    "from langchain_core.output_parsers import StrOutputParser\n"
   ]
  },
  {
   "cell_type": "code",
   "execution_count": null,
   "id": "7a901005",
   "metadata": {},
   "outputs": [],
   "source": [
    "def format_docs(retrieved_docs):\n",
    "    context_text=\"\\n\\n\".join(doc.page_content for doc in retrieved_docs)\n",
    "    return context_text"
   ]
  },
  {
   "cell_type": "code",
   "execution_count": null,
   "id": "ecfad850",
   "metadata": {},
   "outputs": [],
   "source": [
    "parallel_chain=RunnableParallel({\n",
    "    'context': retriever|RunnableLambda(format_docs),\n",
    "    'question':RunnablePassthrough()\n",
    "})"
   ]
  },
  {
   "cell_type": "code",
   "execution_count": null,
   "id": "a1707940",
   "metadata": {},
   "outputs": [],
   "source": [
    "parallel_chain.invoke('Who is Demis')"
   ]
  },
  {
   "cell_type": "code",
   "execution_count": null,
   "id": "41a42539",
   "metadata": {},
   "outputs": [],
   "source": [
    "parser=StrOutputParser()"
   ]
  },
  {
   "cell_type": "code",
   "execution_count": null,
   "id": "190c5379",
   "metadata": {},
   "outputs": [],
   "source": [
    "main_chain =parallel_chain|prompt|llm|parser"
   ]
  },
  {
   "cell_type": "code",
   "execution_count": null,
   "id": "cc3efabf",
   "metadata": {},
   "outputs": [],
   "source": [
    "main_chain.invoke('summarize this video')"
   ]
  }
 ],
 "metadata": {
  "kernelspec": {
   "display_name": "Python 3",
   "language": "python",
   "name": "python3"
  },
  "language_info": {
   "codemirror_mode": {
    "name": "ipython",
    "version": 3
   },
   "file_extension": ".py",
   "mimetype": "text/x-python",
   "name": "python",
   "nbconvert_exporter": "python",
   "pygments_lexer": "ipython3",
   "version": "3.12.10"
  }
 },
 "nbformat": 4,
 "nbformat_minor": 5
}
